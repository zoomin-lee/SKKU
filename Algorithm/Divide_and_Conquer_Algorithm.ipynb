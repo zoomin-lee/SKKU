{
  "nbformat": 4,
  "nbformat_minor": 0,
  "metadata": {
    "colab": {
      "name": "Divide_and_Conquer_Algorithm.ipynb",
      "provenance": [],
      "collapsed_sections": []
    },
    "kernelspec": {
      "name": "python3",
      "display_name": "Python 3"
    },
    "language_info": {
      "name": "python"
    }
  },
  "cells": [
    {
      "cell_type": "markdown",
      "metadata": {
        "id": "BcgatKVboxpy"
      },
      "source": [
        "# Dived and Conquer Algorithm\n",
        ": 주어진 문제를 부분 문제들로 분할하고 각 부분 문제에 대한 부분 해를 찾은 후, 부분 해들을 통합하여 원래 문제의 해결책을 찾는 전략\n",
        "1. Divide : 주어진 문제를 동일한 부분 문제들로 재귀적으로 분할 ( 입력 사이즈 줄어듦 )\n",
        "2. Conquer : 부분 문제들의 부분 해를 찾음\n",
        "3. Combine : 필요하다면 부분 해들을 통합하는 top down 문제 해결 전략 \n",
        "\n",
        "<br>\n",
        "\n",
        "## 👉 Merge Sort \n",
        ": 문제가 각 재귀마다 두 개의 부분 문제의 크기가 1/2로 감소하는 알고리즘\n",
        "- 입력에 민감하지 않음 : 모든 경우의 분석 가능 o(nlogn)\n",
        "- 정렬 시 추가 메모리 공간 필요\n",
        "- 분할 과정보다 통합 과정이 중요함\n",
        "\n",
        "<br>\n",
        "\n",
        "**✔️ 합병 정렬 수행 시간 분석**\n",
        "\n",
        "    입력 사이즈를 n = 2^k라고 가정\n",
        "    합병 정렬의 분할은 리스트의 중간 index 계산과 2번의 재귀 호출이므로 o(c) 소요\n",
        "    단위 연산은 통합(합병)에서의 비교 연산으로 각 통합 단계마다 n-1번 비교하며, logn 단계가 존재하므로 o(nlogn) 소요"
      ]
    },
    {
      "cell_type": "code",
      "metadata": {
        "colab": {
          "base_uri": "https://localhost:8080/"
        },
        "id": "HifTpfSZpvdv",
        "outputId": "5b032a26-f8e6-4ec1-a3b3-b192e22633e7"
      },
      "source": [
        "def merge(items, temp, low, mid, high):\n",
        "    i = low\n",
        "    j = mid+1\n",
        "    for k in range(low, high+1):\n",
        "        if i > mid:\n",
        "            temp[k] = items[j]\n",
        "            j +=1\n",
        "        elif j > high:\n",
        "            temp[k] = items[i]\n",
        "            i +=1\n",
        "        elif items[j] < items[i]:\n",
        "            temp[k] = items[j]\n",
        "            j +=1\n",
        "        else :\n",
        "            temp[k] = items[i]\n",
        "            i +=1\n",
        "    for k in range(low, high+1):\n",
        "        items[k] = temp[k]\n",
        "\n",
        "def merge_sort(items, temp, low, high):\n",
        "    if high <= low:\n",
        "        return None\n",
        "    mid = low + (high-low)//2\n",
        "    merge_sort(items, temp, low, mid)\n",
        "    merge_sort(items, temp, mid+1, high)\n",
        "    merge(items, temp, low, mid, high)\n",
        "\n",
        "items = [40,10,20,50,70,30,90]\n",
        "temp =[None]*len(items)\n",
        "print(\"합병 정렬 전 : \", items)\n",
        "merge_sort(items, temp, 0, len(items)-1)\n",
        "print(\"합병 정렬 후 : \", items)"
      ],
      "execution_count": 3,
      "outputs": [
        {
          "output_type": "stream",
          "name": "stdout",
          "text": [
            "합병 정렬 전 :  [40, 10, 20, 50, 70, 30, 90]\n",
            "합병 정렬 후 :  [10, 20, 30, 40, 50, 70, 90]\n"
          ]
        }
      ]
    },
    {
      "cell_type": "markdown",
      "metadata": {
        "id": "IK2UMNEQpzNK"
      },
      "source": [
        "## 👉 Closest Pair Problem \n",
        ": 문제가 각 재귀마다 두 개의 부분 문제의 크기가 1/2로 감소하는 알고리즘\n",
        "\n",
        "#### d차원상에 존재하는 n개의 점들의 집합이 주어졌을 때, 두 점 사이의 거리가 가장 가까운 한 쌍을 찾는 문제 \n",
        "\n",
        "1. Divide : n개의 점들을 x좌표에 따라 오름차순으로 정렬하고, n개의 점들의 집합이 두개의 같은 크기의 서브 집합으로 나눌 수 있도록 y축과 평행한 직선을 이용해 공간을 분할\n",
        "  - 종료조건 : 집합 사이즈가 n <= 3이면 brute-force 사용\n",
        "2. Conquer : 각 서브 집합에서 재귀적으로 두 점 사이의 거리가 가장 가까운 한쌍 검색\n",
        "3. Combine : 각각 다른 서브 집합에 속하는 쌍들 중 거리가 최소가 되는 쌍 검색 후, closest_pair_l, closest_pair_r, closest_pair_m 중 가장 가까운 쌍 선택\n",
        "\n",
        "<br>\n",
        "\n",
        "###✔️ distance_m 계산 방법\n",
        "\n",
        "![image.png](data:image/png;base64,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)\n",
        "\n"
      ]
    },
    {
      "cell_type": "markdown",
      "metadata": {
        "id": "qtRBcrHnJs_w"
      },
      "source": [
        "- Strip 내부에 속하는 점들의 집합 S = {p1, p2, ..., pn}\n",
        "- S에 속한 점들 중 왼쪽 서브 집합에 속한 임의의 점 pi=(xi, yi)와 오른쪽 서브 집합에 속한 임의의 점 pj=(xj, yj)가 존재하고 distance(pi, pj) <= d 라고 가정\n",
        "- pi의 y좌표 값이 가장 작다고 가정\n",
        "\n",
        "<br>\n",
        "\n",
        "**pi와 pj 사이에는 최대 6개의 점이 존재함**\n",
        "\n",
        "🧐❔ 위의 그림과 같이 8개의 정사각형에는 최대 한 개의 점만이 포함될 수 있음\n",
        "\n",
        "🧐❔ 정사각형 내에 두 개의 점이 포함된다면 두 개의 점 사이의 거리가 d보다 짧아지므로 \n",
        "\n",
        "**따라서**, pi와 쌍을 이루어 그 거리가 d보다 가까운 점을 찾기 위해서는 최대 7번의 거리 계산만 하면 됨 o(c)\n",
        "- 이때, pi와 다른 띠 내부의 점들의 y좌표 간 거리가 d보다 가까운 점들만 고려한다면, 7번 이내 거리 계산 가능\n",
        "\n",
        "<br>\n",
        "\n",
        "**✔️ 최근접쌍 알고리즘 수행 시간 분석**\n",
        "\n",
        "    입력 사이즈를 n = 2^k라고 가정했을 때, 전처리 과정으로서 점을 x좌표로 정렬 o(nlogn)\n",
        "    최근접쌍의 분할은 합병정렬과 마찬가지로 상수 시간 소요 o(1)\n",
        "    단위 연산은 통합(합병)에서의 거리 계산으로 각 통합 단계마다 y좌표를 정렬하고, n-2번 거리 계산을 하므로 o(nlogn + n) = o(nlogn)\n",
        "    logn -1 개의 통합 단계가 존재하므로 o(nlog^2n)\n",
        "- 이때, 전처리 과정에서 점들을 y좌표로 정렬한 추가 리스트를 사용하면 o(nlogn)"
      ]
    },
    {
      "cell_type": "code",
      "metadata": {
        "colab": {
          "base_uri": "https://localhost:8080/"
        },
        "id": "vr6wtxlSn7-t",
        "outputId": "74741c4f-244d-46f6-f821-80a3e10082d8"
      },
      "source": [
        "import math\n",
        "import copy\n",
        "\n",
        "def distance(p1, p2) :\n",
        "  return math.sqrt((p1[0]-p2[0])**2 + (p1[1]-p2[1])**2)\n",
        "\n",
        "def compute_closest_pair(P, n) : \n",
        "  P.sort(key = lambda x: x[0])\n",
        "  Q = copy.deepcopy(P)\n",
        "  Q.sort(key = lambda x : x[1])\n",
        "  return closest_pair(P, Q, n)\n",
        "\n",
        "def closest_pair(P, Q, n) :\n",
        "  if n <= 3:\n",
        "    return brute_force(P, n)\n",
        "\n",
        "  d = float('inf')\n",
        "  cp = ()\n",
        "  mid = n//2\n",
        "  midpoint = P[mid]\n",
        "  distance_l, closest_pair_l = closest_pair(P[:mid], Q, mid)\n",
        "  distance_r, closest_pair_r = closest_pair(P[mid:], Q, n - mid)\n",
        "\n",
        "  if distance_l <= distance_r :\n",
        "    d = distance_l\n",
        "    cp = closest_pair_l\n",
        "  else :\n",
        "    d = distance_r\n",
        "    cp = closest_pair_r\n",
        "\n",
        "  strip = []\n",
        "  for i in range(n) : \n",
        "    if midpoint[0] - d <= Q[i][0] <= midpoint[0] + d : \n",
        "      strip.append(Q[i])\n",
        "  distance_m, closest_pair_m = strip_closest_pair(strip, len(strip), d, cp) \n",
        "\n",
        "  if d < distance_m :\n",
        "    return d, cp\n",
        "  else :\n",
        "    return distance_m, closest_pair_m\n",
        "\n",
        "def brute_force(P, n) :\n",
        "  min_val = float('inf')\n",
        "  cp = ()\n",
        "  for i in range(n) :\n",
        "    for j in range(i+1, n):\n",
        "      if distance(P[i], P[j]) < min_val :\n",
        "        min_val = distance(P[i], P[j])\n",
        "        cp = (P[i], P[j])\n",
        "  return min_val, cp\n",
        "\n",
        "def strip_closest_pair(strip, size, d, cp):\n",
        "  distance_m = d\n",
        "  closest_pair_m = cp\n",
        "  for i in range(size):\n",
        "    j = i+1\n",
        "    while j < size and ( strip[j][1] - strip[i][1] ) < distance_m :\n",
        "      if distance(strip[i], strip[j]) < distance_m :\n",
        "        distance_m = distance(strip[i], strip[j])\n",
        "        closest_pair_m = (strip[i], strip[j])\n",
        "      j += 1\n",
        "  return distance_m, closest_pair_m\n",
        "\n",
        "P = [(1, 1), (2, 2), (1, 3), (3, 6), (9, 15), (8, 12), (4, 7), (9, 7), (4, 4), (5, 4), (3, 3), (6, 7), (8, 9), (9, 2)]\n",
        "n = len(P)\n",
        "result = compute_closest_pair(P, n)\n",
        "print(\"The smallest distance and closest pair :\", result)\n",
        "\n",
        "P = [(1, 11), (3, 7), (5, 3), (7, 7), (9, 6), (13, 7), (15, 11), (16, 4)]\n",
        "n = len(P)\n",
        "result = compute_closest_pair(P, n)\n",
        "print(\"The smallest distance and closest pair :\", result)"
      ],
      "execution_count": 14,
      "outputs": [
        {
          "output_type": "stream",
          "name": "stdout",
          "text": [
            "The smallest distance and closest pair : (1.0, ((4, 4), (5, 4)))\n",
            "The smallest distance and closest pair : (2.23606797749979, ((9, 6), (7, 7)))\n"
          ]
        }
      ]
    },
    {
      "cell_type": "markdown",
      "metadata": {
        "id": "1HVw2EApqArS"
      },
      "source": [
        "## 👉 Quick Sort \n",
        ": 문제가 각 재귀마다 두 개의 부분 문제의 크기가 일정하지 않은 크기로 감소하는 알고리즘\n",
        "\n",
        "- 평균 시간 복잡도가 o(nlogn)인 다른 정렬 알고리즘보다 빠름 \n",
        "  - 상수적으로 빠르다는 뜻\n",
        "- 합병 정렬과 다르게 추가 메모리 공간이 필요하지 않음\n",
        "- 통합 과정이 필요하지 않음\n",
        "\n",
        "<br>\n",
        "\n",
        "**✔️ 퀵 정렬 수행 시간 분석**\n",
        "\n",
        "    입력 사이즈를 n = 2^k라고 가정\n",
        "    1. 최선/평균의 경우 o(nlogn) : logn 만큼 분할하며 분할마다 n-1번 비교하므로 o(nlogn) 소요 \n",
        "    2. 최악의 경우 o(n^2) : 입력이 이미 정렬되어 있거나 역순으로 정렬되어 있다면, n번 분할하고 각 분할 단계마다 n-1, n-2, ..., 1번의 원소를 비교하므로 o(n(n-1)/2) 소요\n"
      ]
    },
    {
      "cell_type": "code",
      "metadata": {
        "colab": {
          "base_uri": "https://localhost:8080/"
        },
        "id": "DDYDBontqCFO",
        "outputId": "52bb2330-ee97-4455-ba5e-56fbf8e481e0"
      },
      "source": [
        "def partition(items, pivot, high):\n",
        "    i = pivot +1\n",
        "    j = high\n",
        "    while True:\n",
        "        while i < high and items[i] < items[pivot]:\n",
        "            i += 1\n",
        "        while j > pivot and items[j] > items[pivot]:\n",
        "            j -= 1\n",
        "        if j <= i:\n",
        "            break\n",
        "        items[i], items[j] = items[j], items[i]\n",
        "        i += 1\n",
        "        j -= 1\n",
        "    items[pivot], items[j] = items[j], items[pivot]\n",
        "    return j\n",
        "\n",
        "def quick_sort(items, low, high):\n",
        "    if low<high:\n",
        "        pivot = partition(items, low, high)\n",
        "        quick_sort(items, low, pivot-1)\n",
        "        quick_sort(items, pivot+1, high)\n",
        "\n",
        "items = [40,10,20,50,70,30,90]\n",
        "print(\"퀵 정렬 전 : \", items)\n",
        "quick_sort(items, 0, len(items)-1)\n",
        "print(\"퀵 정렬 후 : \", items)"
      ],
      "execution_count": 4,
      "outputs": [
        {
          "output_type": "stream",
          "name": "stdout",
          "text": [
            "퀵 정렬 전 :  [40, 10, 20, 50, 70, 30, 90]\n",
            "퀵 정렬 후 :  [10, 20, 30, 40, 50, 70, 90]\n"
          ]
        }
      ]
    },
    {
      "cell_type": "code",
      "metadata": {
        "colab": {
          "base_uri": "https://localhost:8080/"
        },
        "id": "WEKNfgwsvaKj",
        "outputId": "9450fcf3-aac0-4c30-fd58-a0b5103ba6cf"
      },
      "source": [
        "def partition(items, low, high):\n",
        "    pivot = items[high]\n",
        "    i = low \n",
        "    for j in range(low, high):\n",
        "      if items[j] <= pivot :\n",
        "        items[i], items[j] = items[j], items[i]\n",
        "        i += 1 # i는 items의 원소 중 pivot 값보다 작은 원소의 개수만큼 증가함\n",
        "    items[i], items[high] = items[high],items[i]\n",
        "    return i\n",
        "\n",
        "def quick_sort(items, low, high):\n",
        "    if low<high:\n",
        "        pivot = partition(items, low, high)\n",
        "        quick_sort(items, low, pivot-1)\n",
        "        quick_sort(items, pivot+1, high)\n",
        "\n",
        "items = [40,10,20,50,70,30,90]\n",
        "print(\"퀵 정렬 전 : \", items)\n",
        "quick_sort(items, 0, len(items)-1)\n",
        "print(\"퀵 정렬 후 : \", items)"
      ],
      "execution_count": 7,
      "outputs": [
        {
          "output_type": "stream",
          "name": "stdout",
          "text": [
            "퀵 정렬 전 :  [40, 10, 20, 50, 70, 30, 90]\n",
            "퀵 정렬 후 :  [10, 20, 30, 40, 50, 70, 90]\n"
          ]
        }
      ]
    },
    {
      "cell_type": "markdown",
      "metadata": {
        "id": "UE6ZtMyeqCW1"
      },
      "source": [
        "## 👉 Binary Search Algorithm\n",
        ": 문제가 각 재귀마다 두 개의 부분 문제 중 하나는 고려할 필요가 없으며 부분 문제의 크기가 1/2로 감소하는 알고리즘\n",
        "\n"
      ]
    },
    {
      "cell_type": "code",
      "metadata": {
        "id": "5yZ0cCCNqDpe"
      },
      "source": [
        "def binary_search(dataset, left, right, target):\n",
        "    if left > right :\n",
        "        return \"Not found\"\n",
        "    else :\n",
        "        mid = (left+right)//2\n",
        "        if dataset[mid] == target :\n",
        "            return mid\n",
        "        elif dataset[mid] > target :\n",
        "            binary_search(dataset, left, mid-1, target)\n",
        "        else:\n",
        "            binary_search(dataset, mid+1, right, target)"
      ],
      "execution_count": null,
      "outputs": []
    },
    {
      "cell_type": "markdown",
      "metadata": {
        "id": "FHEUwuIzqENP"
      },
      "source": [
        "## 👉 Selection Problem \n",
        ": 문제가 각 재귀마다 두 개의 부분 문제 중 하나는 고려할 필요가 없으며 부분 문제의 크기가 일정하지 않은 크기로 감소하는 알고리즘\n",
        "\n",
        "#### 사이즈가 n인 정수 리스트의 원소 중 k번째로 작은 원소를 찾는 문제 \n",
        "1. Divide : parition 함수를 이용하여 리스트 내 n개의 원소 정렬 시 pivot을 기준으로 서브 리스트 생성\n",
        "2. Conquer \n",
        "- k번째로 작은 원소의 값이 pivot 값보다 작으면 왼쪽 서브리스틑 대상으로 quick selection 실행, \n",
        "- 크면 오른쪽 서브리스트를 대상으로 quick selection 실행, \n",
        "- pivot 값과 같다면 pivot값을 결과로 반환\n",
        "3. Combine : 필요없음\n",
        "\n",
        "**✔️ Quick Selection 수행 시간 분석**\n",
        "    \n",
        "    입력 사이즈는 n = 2^k라고 가정\n",
        "    1. 최선의 경우 o(n) : quick sort와 마찬가지로 k번 균등 분할하는 경우, 이진검색과 같이 검색 공간이 1/2로 감소하므로 n + n/2 + n/4 + ... = 2n\n",
        "    2. 평균의 경우 o(n) : 예를 들어, pivot이 매 분할마다 1:3 비율로 왼/오른쪽 서브리스트를 분할하고 k가 분할 시 항상 오른쪽 서브리스트에 존재한다면 n + 3/4 n + 9/16 n +... = 4n\n",
        "    3. 최악의 경우 o(n^2) : 매 분할마다 가장 큰/작은 원소를 pivot으로 선택하는 경우 n + (n-1) + ... + 1 "
      ]
    },
    {
      "cell_type": "code",
      "metadata": {
        "colab": {
          "base_uri": "https://localhost:8080/"
        },
        "id": "_HHNjewKqKdN",
        "outputId": "90ab278a-3c29-4abf-a24f-5e0dfb08c96e"
      },
      "source": [
        "def partition(items, low, high):\n",
        "    pivot = items[high]\n",
        "    i = low \n",
        "    for j in range(low, high):\n",
        "      if items[j] <= pivot :\n",
        "        items[i], items[j] = items[j], items[i]\n",
        "        i += 1 # i는 items의 원소 중 pivot 값보다 작은 원소의 개수만큼 증가함\n",
        "    items[i], items[high] = items[high],items[i]\n",
        "    return i\n",
        "\n",
        "def quick_selection(items, low, high, k):\n",
        "  pivot = partition(items, low, high)\n",
        "  if pivot == k-1 :\n",
        "    return items[pivot]\n",
        "  elif pivot < k-1 :\n",
        "    return quick_selection(items, pivot+1, high, k)\n",
        "  else :\n",
        "    return quick_selection(items, low, pivot-1, k)\n",
        "\n",
        "items = [4, 8, 12, 16, 20, 24, 26, 22, 18, 14, 10, 6, 2]\n",
        "print(quick_selection(items, 0, len(items)-1, 3))"
      ],
      "execution_count": 9,
      "outputs": [
        {
          "output_type": "stream",
          "name": "stdout",
          "text": [
            "6\n"
          ]
        }
      ]
    }
  ]
}