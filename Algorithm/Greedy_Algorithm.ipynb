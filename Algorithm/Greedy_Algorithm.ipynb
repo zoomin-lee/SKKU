{
  "nbformat": 4,
  "nbformat_minor": 0,
  "metadata": {
    "colab": {
      "name": "Greedy_Algorithm.ipynb",
      "provenance": [],
      "collapsed_sections": []
    },
    "kernelspec": {
      "name": "python3",
      "display_name": "Python 3"
    },
    "language_info": {
      "name": "python"
    }
  },
  "cells": [
    {
      "cell_type": "markdown",
      "metadata": {
        "id": "Ps_JcD04Ynd4"
      },
      "source": [
        "# Greedy Alogrithm\n",
        ": 연속적인 부분해 선택이 필요한 문제가 주어졌을 때, 선택을 해야 할 순간마다 그 순간에 최적이라고 생각되는 것을 부분해로 선택함으로써 최종해를 도출하는 알고리즘\n",
        "- 최종 해가 최적이라는 보장이 없으므로 최적인지 이론적으로 검증해야함\n",
        "- heuristic 알고리즘\n",
        "\n",
        "\n",
        "## 탐욕적 알고리즘 설계 과정\n",
        "1. Selection Procedure : 현재 가장 최적이라 생각되는 부분 해 선택\n",
        "2. Feasibility check : 선택한 부분 해를 해 집합에 포함시키는 것이 적절한지 확인 후 포함\n",
        "3. Solution Check : 새로 얻은 해 집합이 주어진 문제의 최종 해인지 확인\n",
        "\n",
        "<br>\n",
        "\n",
        "## 👉 거스름돈 계산하기 문제 \n",
        "**:  항상 최적인 최종 해를 도출할 수 없음**\n",
        "1. Selection Procedure : 현재 선택할 수 있는 동전 중 액면가가 가장 높은 동전을 부분해로 선택\n",
        "- 부분 해 선택 기준의 타당 여부를 보이기 위한 방법 중 하나는 반례를 찾는 것 \n",
        "2. Feasibility check : 해당 동전을 거스름돈에 추가 시 거스름돈 총액 초과하였는지 확인 \n",
        "3. Solution Check : 현재까지의 금액이 거스름돈 총액에 도달했는지 확인"
      ]
    },
    {
      "cell_type": "code",
      "metadata": {
        "colab": {
          "base_uri": "https://localhost:8080/"
        },
        "id": "hXxkFreCplbv",
        "outputId": "dddabb34-0d21-4410-d11e-f4aa16fd1eaa"
      },
      "source": [
        "def coin_change(x):\n",
        "  d = [10,50,100,500,1000,5000,10000]\n",
        "  result = []\n",
        "  i = len(d) - 1\n",
        "\n",
        "  while i >= 0 :\n",
        "    cnt = 0\n",
        "    while x >= d[i] :\n",
        "      x -= d[i]\n",
        "      cnt += 1\n",
        "    i -= 1\n",
        "    result.append(cnt)\n",
        "\n",
        "  for cnt, coin in zip(result, d[::-1]) :\n",
        "    print(coin, \"원 :\", cnt, \"개\")\n",
        "\n",
        "coin_change(16680)"
      ],
      "execution_count": null,
      "outputs": [
        {
          "output_type": "stream",
          "name": "stdout",
          "text": [
            "10000 원 : 1 개\n",
            "5000 원 : 1 개\n",
            "1000 원 : 1 개\n",
            "500 원 : 1 개\n",
            "100 원 : 1 개\n",
            "50 원 : 1 개\n",
            "10 원 : 3 개\n"
          ]
        }
      ]
    },
    {
      "cell_type": "markdown",
      "metadata": {
        "id": "huA7dkOYtRK_"
      },
      "source": [
        "## 👉 작업 스케줄링 문제  \n",
        "**:  항상 최적인 최종 해 도출  o(nlogn)**\n",
        "1. Selection Procedure : 해당 순간에 종료 시간이 가장 이른 작업을 우선적으로 선택 \n",
        "2. Feasibility check : 이전에 선택한 작업과 서로 시간이 겹치는지 확인\n",
        "3. Solution Check : 주어진 모든 작업을 확인했는지 점검\n",
        "\n",
        "\n",
        "##✔️ Proof\n",
        "- Greedy Algorithm을 이용하여 도출한 최종 해 G = {g1, g2, ..., gk}\n",
        "- 최적인 최종 해 O = {o1, o2, ..., om}\n",
        "- 여기서 1, 2, 3, ..., k와 1, 2, 3, ..., m은 빠른 종료 시간 순서를 나타냄\n",
        "\n",
        "\n",
        "    만약 g1과 o1이 같지 않다면 g1은 반드시 o1보다 종료시간이 더 빠른 작업이다. \n",
        "    그 이유는 입력으로 주어진 작업 집합 JOB을 종료 시간 기준으로 오름차순으로 정렬했기 때문이다.\n",
        "    따라서, o1을 g1으로 대체할 수 있으며, 그 결과 O와는 다른 새로운 최적인 최종 해 O' = {g1, o2, ..., om}이 된다. \n",
        "    이를 반복하면 O = G와 같게 된다.\n"
      ]
    },
    {
      "cell_type": "code",
      "metadata": {
        "colab": {
          "base_uri": "https://localhost:8080/"
        },
        "id": "k3iHLFu1u2Ex",
        "outputId": "0b37d195-cb09-49d5-bad0-244a65b5fa24"
      },
      "source": [
        "def job_scheduling(JOB):\n",
        "  JOB.sort(key = lambda x : x[2]) # o(nlogn)\n",
        "\n",
        "  solution_set = []\n",
        "  previous_f = 0\n",
        "\n",
        "  for i in range(len(JOB)): # o(logn)\n",
        "    if JOB[i][1] >= previous_f :\n",
        "      solution_set.append(JOB[i])\n",
        "      previous_f = JOB[i][2]\n",
        "  \n",
        "  return solution_set\n",
        "\n",
        "JOB = [['A', 0, 6], ['B', 1, 4], ['C', 3, 5], ['D', 3, 8], ['E', 4, 7], ['F', 5, 9], ['G', 6, 10], ['H', 8, 11]]\n",
        "print(job_scheduling(JOB))"
      ],
      "execution_count": null,
      "outputs": [
        {
          "output_type": "stream",
          "name": "stdout",
          "text": [
            "[['B', 1, 4], ['E', 4, 7], ['H', 8, 11]]\n"
          ]
        }
      ]
    },
    {
      "cell_type": "markdown",
      "metadata": {
        "id": "9ocbRN415aHQ"
      },
      "source": [
        "## 👉 강의실 배정 문제 \n",
        "**:  항상 최적인 최종 해 도출  o(nlogn)**\n",
        "1. Selection Procedure : 해당 순간에  시작 시간이 가장 이른 강의 선택\n",
        "2. Feasibility check : 현재 사용 중인 강의실을 이미 이전에 배정된 강의와 서로 시간이 겹치는지 확인\n",
        "3. Solution Check : 주어진 모든 강의를 배정했는지 점검"
      ]
    },
    {
      "cell_type": "code",
      "metadata": {
        "id": "qlp3R9sdT8Md"
      },
      "source": [
        "class Binaryminheap :\n",
        "    def __init__(self, array=[]): # o(1)\n",
        "        self.items = array\n",
        "\n",
        "    def size(self): # o(1)\n",
        "        return len(self.items)\n",
        "\n",
        "    def swap(self, i, j): # o(1)\n",
        "        self.items[i], self.items[j] = self.items[j], self.items[i]\n",
        "\n",
        "    def insert(self,key): # o(log n) : 최악의 경우 힙의 높이 h = 올림log(n+1)-1 만큼 upheap\n",
        "        self.items.append(key)\n",
        "        self.upheap(self.size()-1)\n",
        "\n",
        "    def extract_min(self): # o(log n) : 최악의 경우 힙의 높이 h = 올림log(n+1)-1 만큼 downheap\n",
        "        if self.size() == 0:\n",
        "            print(\"heap is empty\")\n",
        "            return None\n",
        "        minimum = self.items[0]\n",
        "        self.swap(0,-1)\n",
        "        del self.items[-1]\n",
        "        self.downheap(0)\n",
        "        return minimum\n",
        "\n",
        "    def downheap(self, i):\n",
        "        while 2*i + 1 <= self.size()-1:\n",
        "            k = 2*i+1\n",
        "            if k < self.size()-1 and self.items[k] >= self.items[k+1]:\n",
        "                k += 1\n",
        "            if self.items[i] < self.items[k]:\n",
        "                break\n",
        "            self.swap(i, k)\n",
        "            i = k\n",
        "\n",
        "    def upheap(self, i):\n",
        "        while i > 0 and self.items[(i-1//2)] < self.items[i]:\n",
        "            self.swap(i, (i-1)//2)\n",
        "            i = (i-1) // 2\n",
        "\n",
        "    def print_heap(self):\n",
        "        print(\"class = \",classes)\n",
        "        print(\"num of classrooms = \", self.size())"
      ],
      "execution_count": null,
      "outputs": []
    },
    {
      "cell_type": "code",
      "metadata": {
        "colab": {
          "base_uri": "https://localhost:8080/"
        },
        "id": "INS3Snlmeycn",
        "outputId": "a8bcd5ee-973b-4285-bbc7-09977363c345"
      },
      "source": [
        "if __name__ == '__main__':\n",
        "  # classes = [(900, 1030),(1100, 1400), (900,1230),(1500,1630), (900,1030), (1100,1230),  (1300,1430), (1300,1430), (1400,1630),  (1500,1630)]\n",
        "  classes = [(900, 1300), (900,1330), (1300,1700), (1400,1630)]\n",
        "  classes = sorted(classes, key=lambda x: x[0])\n",
        "  \n",
        "  minheap = Binaryminheap()\n",
        "  for c in classes : # o(n)\n",
        "    if minheap.size() != 0 and minheap.items[0] <= c[0] :\n",
        "      min = minheap.extract_min() # o(logn)\n",
        "    minheap.insert(c[1]) # o(logn)\n",
        "  minheap.print_heap()"
      ],
      "execution_count": null,
      "outputs": [
        {
          "output_type": "stream",
          "name": "stdout",
          "text": [
            "class =  [(900, 1300), (900, 1330), (1300, 1700), (1400, 1630)]\n",
            "num of classrooms =  2\n"
          ]
        }
      ]
    },
    {
      "cell_type": "markdown",
      "metadata": {
        "id": "inqJfzmJQ6fC"
      },
      "source": [
        "# 최단 경로 문제 \n",
        ": 가중치 그래프에서 시작 정점으로부터 도착 정점까지의 최단 경로( 가중치의 합이 최소가 되는 경로)를 찾는 문제\n",
        "\n",
        "## 👉 다익스트라 알고리즘( Dijkstra's Algortihm )\n",
        ": 주어진 무방향 가중치 그래프에서 특정 시작 정점에서 다른 모든 정점까지의 최단 단순 경로를 찾는 문제를 해결하기 위한 Greedy Algorithm\n",
        "- 단, 가중치는 음수가 아니어야 함\n",
        "\n",
        "\n",
        "🧐 무방향 가중치 그래프 간선의 가중치를 모두 1씩 증가시키면 최단 단순 경로가 바뀔까? ⭕️\n",
        "\n",
        "<br>\n",
        "\n",
        "**:  항상 최적인 최종 해 도출**\n",
        "\n",
        "- 정점들의 집합 : V, 간선들의 집합 : E, 시작 정점 : s\n",
        "- 집합 S : 시작 정점 s로부터 최종 쵠단 경로가 이미 발견된 정점들의 집합으로 S = {s}로 초기화\n",
        "- 최단 거리 기록 리스트 D = {dist(s,s), dist(s,u1), ..., dist(s,uV)} : S에 존재하는 정점만을 거쳐서 다른 정점에 이른 최단거리를 기록하는 리스트 \n",
        "  - D[s] = 0\n",
        "  - s를 제외한 각 정점 u에 대해서 (s,u)가 존재하면 D(u)는 간선의 가중치로 초기화하며, 존재하지 않으면 무한대로 초기화한다.  \n",
        "\n",
        "1. Selection Procedure : 해당 순간에 정점 s로부터 최단경로가 되는 정점 v 선정\n",
        "2. Feasibility check : V - S에 속한 정점 중에서 최단 경로에 있는 v를 S에 포함시키고, V - {v}에 속한 정점 u에 대한 dist(s,u) 갱신(= edge relaxation)시킴\n",
        "3. Solution Check : S = V 인지 점검\n",
        "\n",
        "<br>\n",
        "\n",
        "## ✔️ Proof\n",
        "\n",
        "![image.png](data:image/png;base64,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)\n",
        "\n",
        "- 특정 시점에서 집합 S에 v가 새로 추가될 차례라고 가정\n",
        "- S에 이미 속해 있던 정점 u와 v를 연결하는 간선 e1=(u,v)가 존재함\n",
        "- 이때, dist(s,u)+dist(u,v)가 s로부터 v까지의 최소 거리가 됨을 증명하면 됨 \n",
        "\n",
        "      dist(s,u)+dist(u,v)보다 가까운 s로부터 v까지의 경로 P가 존재한다고 가정\n",
        "      P에는 반드시 S에 포함된 정점 x와 포함되지 않은 정점 y를 연결하는 간선 e2=(x,y)가 존재함\n",
        "      s로부터 v까지의 최소 거리는 dist(s,u)+dist(u,v)보다 가까우므로 dist(s,x)+dist(x,y) < dist(s,u)+dist(u,v)를 만족하고, 그 결과 dist(s,y) < dist(s,v)를 만족함\n",
        "      하지만, 다익스트라 알고리즘은 각 단계마다 choose_min_vertex() 함수를 호출하여 S에 추가되지 않은 정점 중 s와의 거리가 최소인 정점을 선택하므로 모순이다.\n",
        "      따라서, dist(s,u)+dist(u,v)보다 가까운 s로부터 v까지의 경로 P는 존재하지 않음"
      ]
    },
    {
      "cell_type": "markdown",
      "metadata": {
        "id": "wdRFW3RCfqol"
      },
      "source": [
        "### method 1 : O(V^2)"
      ]
    },
    {
      "cell_type": "code",
      "metadata": {
        "colab": {
          "base_uri": "https://localhost:8080/"
        },
        "id": "0Xp1WZPHTl2v",
        "outputId": "1b7716d8-cf37-42b9-c6e3-d15f07e90a83"
      },
      "source": [
        "def choose_min_vertex(dist, found):\n",
        "  min = INF\n",
        "  minpos = -1\n",
        "  for i in range(len(dist)) :\n",
        "    if dist[i] < min and found[i] == False : \n",
        "      min = dist[i]\n",
        "      minpos = i\n",
        "  return minpos\n",
        "\n",
        "def dijkstra(vtx, adj, start) : \n",
        "  vsize = len(vtx)\n",
        "  dist = list(adj[start])\n",
        "  path = [start] * vsize\n",
        "  found = [False] * vsize\n",
        "  found[start] = True\n",
        "  dist[start] = 0 \n",
        "\n",
        "  for i in range(vsize) :\n",
        "    u = choose_min_vertex(dist, found)\n",
        "    found[u] = True\n",
        "    for w in range(vsize) :\n",
        "      if not found[w] :\n",
        "        if dist[u] + adj[u][w] < dist[w] : \n",
        "          dist[w] = dist[u] + adj[u][w]\n",
        "          path[w] = u\n",
        "  \n",
        "  return path\n",
        "\n",
        "INF = float('inf')\n",
        "vertex = ['A', 'B', 'C', 'D', 'E', 'F', 'G']\n",
        "adj_matrix = [ [0, 3, 7, 5, INF, INF, INF],\n",
        "               [3, 0, 2, INF, 9, INF, INF], \n",
        "               [7, 2, 0, 1, 6, 12, 25],\n",
        "               [5, INF, 1, 0, INF, INF, 20],\n",
        "               [INF, 9, 6, INF, 0, 4,INF],\n",
        "               [INF, INF, 12, INF, 4, 0, 8],\n",
        "               [INF, INF, 25, 20, INF, 8, 0] ]\n",
        "\n",
        "print(\"Shortest Path by Dijkstra's Algorithm \\n\")\n",
        "start = 0\n",
        "path = dijkstra(vertex, adj_matrix, start)\n",
        "\n",
        "for end in range(len(vertex)) :\n",
        "  if end != start :\n",
        "    print(\"[Shortest Path %s -> %s] : %s\" %(vertex[start], vertex[end], vertex[end]), end = ' ')\n",
        "    while path[end] != start : \n",
        "      print(\"<-\", vertex[path[end]], end = ' ')\n",
        "      end = path[end]\n",
        "    print(\"<-\", vertex[path[end]])"
      ],
      "execution_count": null,
      "outputs": [
        {
          "output_type": "stream",
          "name": "stdout",
          "text": [
            "Shortest Path by Dijkstra's Algorithm \n",
            "\n",
            "[Shortest Path A -> B] : B <- A\n",
            "[Shortest Path A -> C] : C <- B <- A\n",
            "[Shortest Path A -> D] : D <- A\n",
            "[Shortest Path A -> E] : E <- C <- B <- A\n",
            "[Shortest Path A -> F] : F <- E <- C <- B <- A\n",
            "[Shortest Path A -> G] : G <- F <- E <- C <- B <- A\n"
          ]
        }
      ]
    },
    {
      "cell_type": "markdown",
      "metadata": {
        "id": "Z1zi0ox-hAZD"
      },
      "source": [
        "### method 2 : O((V+E)log V)"
      ]
    },
    {
      "cell_type": "code",
      "metadata": {
        "colab": {
          "base_uri": "https://localhost:8080/"
        },
        "id": "IM2z78k-foqs",
        "outputId": "7eb34d6f-5ab3-4688-e460-936e9776bbdc"
      },
      "source": [
        "import heapq  # 우선순위 큐 구현을 위함\n",
        "\n",
        "def dijkstra(graph, start):\n",
        "  distances = {node: float('inf') for node in graph}  # start로 부터의 거리 값을 저장하기 위함\n",
        "  distances[start] = 0  # 시작 값은 0이어야 함\n",
        "  queue = []\n",
        "  heapq.heappush(queue, [distances[start], start])  # 시작 노드부터 탐색 시작 하기 위함.\n",
        "\n",
        "  while queue:  # queue에 남아 있는 노드가 없으면 끝\n",
        "    current_distance, current_destination = heapq.heappop(queue)  # 탐색 할 노드, 거리를 가져옴.\n",
        "\n",
        "    if distances[current_destination] < current_distance:  # 기존에 있는 거리보다 길다면, 볼 필요도 없음\n",
        "      continue\n",
        "    \n",
        "    for new_destination, new_distance in graph[current_destination].items():\n",
        "      distance = current_distance + new_distance  # 해당 노드를 거쳐 갈 때 거리\n",
        "      if distance < distances[new_destination]:  # 알고 있는 거리 보다 작으면 갱신\n",
        "        distances[new_destination] = distance\n",
        "        heapq.heappush(queue, [distance, new_destination])  # 다음 인접 거리를 계산 하기 위해 큐에 삽입\n",
        "    \n",
        "  return distances\n",
        "\n",
        "graph = {\n",
        "    'A': {'B': 8, 'C': 1, 'D': 2},\n",
        "    'B': {},\n",
        "    'C': {'B': 5, 'D': 2},\n",
        "    'D': {'E': 3, 'F': 5},\n",
        "    'E': {'F': 1},\n",
        "    'F': {'A': 5}\n",
        "}\n",
        "print(dijkstra(graph, 'A'))"
      ],
      "execution_count": null,
      "outputs": [
        {
          "output_type": "stream",
          "name": "stdout",
          "text": [
            "{'A': 0, 'B': 6, 'C': 1, 'D': 2, 'E': 5, 'F': 6}\n"
          ]
        }
      ]
    }
  ]
}